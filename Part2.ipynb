{
  "nbformat": 4,
  "nbformat_minor": 0,
  "metadata": {
    "colab": {
      "provenance": []
    },
    "kernelspec": {
      "name": "python3",
      "display_name": "Python 3"
    },
    "language_info": {
      "name": "python"
    }
  },
  "cells": [
    {
      "cell_type": "code",
      "execution_count": 4,
      "metadata": {
        "id": "Ly3QXnHmaOPi"
      },
      "outputs": [],
      "source": [
        "import json\n",
        "\n",
        "def parse_api(api_url):\n",
        "\n",
        "    try:\n",
        "        response = requests.get(api_url)\n",
        "        response.raise_for_status()\n",
        "        data = response.json()\n",
        "\n",
        "        with open('result.json', 'w') as f:\n",
        "            json.dump(data, f, indent=4)\n",
        "\n",
        "    except requests.HTTPError as e:\n",
        "        print(f\"Error fetching API data: {e}\")\n",
        "\n",
        "# Test\n",
        "parse_api('https://api.github.com/')"
      ]
    }
  ]
}