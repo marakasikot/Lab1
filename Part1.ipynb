{
  "nbformat": 4,
  "nbformat_minor": 0,
  "metadata": {
    "colab": {
      "provenance": []
    },
    "kernelspec": {
      "name": "python3",
      "display_name": "Python 3"
    },
    "language_info": {
      "name": "python"
    }
  },
  "cells": [
    {
      "cell_type": "code",
      "execution_count": 2,
      "metadata": {
        "colab": {
          "base_uri": "https://localhost:8080/"
        },
        "id": "Ly3QXnHmaOPi",
        "outputId": "2afe3fcd-f369-4539-f0ef-47e06ab77d86"
      },
      "outputs": [
        {
          "output_type": "stream",
          "name": "stdout",
          "text": [
            "Головна - Факультет математики та інформатики Перейти до основного вмісту [email protected] 58012, Україна, м. Чернівці, вул. Університетська, 28 Новини Всі Загальні Оголошення Події Студенту Викладачу Вітання Діяльність Наукова Навчально-методична Міжнар\n",
            "Web scraping - Wikipedia Jump to content Main menu Main menu move to sidebar hide Navigation Main page Contents Current events Random article About Wikipedia Contact us Contribute Help Learn to edit Community portal Recent changes Upload file Search Searc\n"
          ]
        }
      ],
      "source": [
        "import requests\n",
        "from bs4 import BeautifulSoup\n",
        "import json\n",
        "import pandas as pd\n",
        "from datetime import datetime\n",
        "import csv\n",
        "import numpy as np\n",
        "import matplotlib.pyplot as plt\n",
        "\n",
        "def parse_web_page(url):\n",
        "\n",
        "    try:\n",
        "        response = requests.get(url)          # робимо запит до сторінки\n",
        "        response.raise_for_status()           # перевірка, чи запит пройшов успішно\n",
        "\n",
        "        # Парсимо HTML за допомогою BeautifulSoup\n",
        "        soup = BeautifulSoup(response.text, 'html.parser')\n",
        "\n",
        "        # Витягаємо текст без HTML тегів\n",
        "        text = soup.get_text(separator=' ', strip=True)\n",
        "        return text\n",
        "\n",
        "    except requests.HTTPError as e:\n",
        "        return f\"Помилка при завантаженні сторінки: {e}\"\n",
        "\n",
        "# Приклад використання\n",
        "print(parse_web_page('https://fmi.chnu.edu.ua/')[:255])  # показуємо перші 255 символів для наочності\n",
        "print(parse_web_page('https://en.wikipedia.org/wiki/Web_scraping')[:255])\n"
      ]
    }
  ]
}