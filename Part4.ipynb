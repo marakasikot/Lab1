{
  "nbformat": 4,
  "nbformat_minor": 0,
  "metadata": {
    "colab": {
      "provenance": []
    },
    "kernelspec": {
      "name": "python3",
      "display_name": "Python 3"
    },
    "language_info": {
      "name": "python"
    }
  },
  "cells": [
    {
      "cell_type": "code",
      "execution_count": 9,
      "metadata": {
        "colab": {
          "base_uri": "https://localhost:8080/"
        },
        "id": "Ly3QXnHmaOPi",
        "outputId": "378405f4-7462-4ce4-d276-4f2d384f5763"
      },
      "outputs": [
        {
          "output_type": "stream",
          "name": "stdout",
          "text": [
            "[{'CET': '1997-1-2', 'Max TemperatureC': '7', 'Mean TemperatureC': '3', 'Min TemperatureC': '0', 'Dew PointC': '6', 'MeanDew PointC': '3', 'Min DewpointC': '0', 'Max Humidity': '100', ' Mean Humidity': '92', ' Min Humidity': '71', ' Max Sea Level PressurehPa': '1007', ' Mean Sea Level PressurehPa': '1003', ' Min Sea Level PressurehPa': '997', ' Max VisibilityKm': '10', ' Mean VisibilityKm': '9', ' Min VisibilitykM': '4', ' Max Wind SpeedKm/h': '26', ' Mean Wind SpeedKm/h': '8', ' Max Gust SpeedKm/h': '47', 'Precipitationmm': '0.00', ' CloudCover': '5', ' Events': 'Rain', 'WindDirDegrees': '143'}]\n"
          ]
        }
      ],
      "source": [
        "import csv\n",
        "\n",
        "def parse_csv(date):\n",
        "\n",
        "    try:\n",
        "        with open('weather.csv', 'r') as f:\n",
        "            reader = csv.DictReader(f)  # Read the CSV file as a dictionary\n",
        "\n",
        "            # Loop through each row in the CSV file\n",
        "            for row in reader:\n",
        "                if row['CET'] == date:  # Check if the date matches\n",
        "                    # Return the weather data for the matching date\n",
        "                    return [row]  # Return as a list containing the row (dictionary)\n",
        "\n",
        "        # If no matching date is found\n",
        "        print(f\"No weather data found for the date: {date}\")\n",
        "        return []\n",
        "\n",
        "    except FileNotFoundError:\n",
        "        print(\"weather.csv file not found.\")\n",
        "        return []\n",
        "\n",
        "# Test with the target date\n",
        "target_date = '1997-1-2'\n",
        "weather_data = parse_csv(target_date)\n",
        "print(weather_data)\n"
      ]
    }
  ]
}