{
  "nbformat": 4,
  "nbformat_minor": 0,
  "metadata": {
    "colab": {
      "provenance": []
    },
    "kernelspec": {
      "name": "python3",
      "display_name": "Python 3"
    },
    "language_info": {
      "name": "python"
    }
  },
  "cells": [
    {
      "cell_type": "code",
      "execution_count": 7,
      "metadata": {
        "colab": {
          "base_uri": "https://localhost:8080/"
        },
        "id": "Ly3QXnHmaOPi",
        "outputId": "b6895ed7-b904-4d08-8319-7ced3b9529a5"
      },
      "outputs": [
        {
          "output_type": "stream",
          "name": "stdout",
          "text": [
            "{'date': '2024-08-19', 'max_temperature': 30.0, 'min_temperature': 21.0, 'precipitation': 5.0, 'wind_speed': 10.0, 'humidity': 70, 'weather_description': 'Light rain'}\n"
          ]
        }
      ],
      "source": [
        "import json\n",
        "\n",
        "def parse_json(date):\n",
        "\n",
        "    try:\n",
        "        with open('weather.json', 'r') as f:\n",
        "            data = json.load(f)  # Load the JSON data into a Python dictionary\n",
        "\n",
        "        # Extract the 'daily' list from the data\n",
        "        daily_weather = data.get('daily', [])\n",
        "\n",
        "        # Filter the weather data for the given date\n",
        "        for entry in daily_weather:\n",
        "            if entry['date'] == date:\n",
        "                return entry  # Return the full weather information for that date\n",
        "\n",
        "        # If no matching date is found\n",
        "        print(f\"No weather data found for the date: {date}\")\n",
        "        return []\n",
        "\n",
        "    except FileNotFoundError:\n",
        "        print(\"weather.json file not found.\")\n",
        "        return []\n",
        "\n",
        "    except json.JSONDecodeError:\n",
        "        print(\"Error decoding JSON from the file.\")\n",
        "        return []\n",
        "\n",
        "# Test with the target date\n",
        "target_date = '2024-08-19'\n",
        "weather_data = parse_json(target_date)\n",
        "print(weather_data)\n"
      ]
    }
  ]
}